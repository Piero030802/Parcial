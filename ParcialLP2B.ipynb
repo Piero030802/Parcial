{
 "cells": [
  {
   "cell_type": "markdown",
   "id": "7c9a87fd-11d5-43d8-895e-ea4ede3bd176",
   "metadata": {},
   "source": [
    "<center><h1> PARCIAL (Parte B)<h1></center>\n"
   ]
  },
  {
   "cell_type": "code",
   "execution_count": 3,
   "id": "6910e044-ff06-4e37-a487-a9342ca79ae9",
   "metadata": {},
   "outputs": [],
   "source": [
    "import re \n",
    "with open('gene.fna', 'r') as file:\n",
    "    content = file.read()"
   ]
  },
  {
   "cell_type": "markdown",
   "id": "1ef05b7e-0426-4b72-b55e-79e0a36794fc",
   "metadata": {},
   "source": [
    "<h3>a) El porcentaje de nucleòtidos C o G en toda la secuencia.</h3>"
   ]
  },
  {
   "cell_type": "code",
   "execution_count": 6,
   "id": "6858ef51-b6fa-4ddb-93e9-c54e7c98ff85",
   "metadata": {},
   "outputs": [
    {
     "name": "stdout",
     "output_type": "stream",
     "text": [
      "el porcentaje de nucleotidos C es: 18.55043688863405 %\n",
      "el porcentaje de nucleotidos G es: 20.714768633022103 %\n"
     ]
    }
   ],
   "source": [
    "secuencia = ''.join(line for line in content.splitlines() if not line.startswith('>')) # con esta linea de codigo eliminamos el encabezado\n",
    "\n",
    "c = re.compile(r'C')\n",
    "g = re.compile(r'G')\n",
    "nucleotidos = re.compile(r'[ATCG]')\n",
    "\n",
    "conteo_c = len(c.findall(secuencia))\n",
    "conteo_g = len(g.findall(secuencia))\n",
    "\n",
    "total_nucleotidos = len(nucleotidos.findall(secuencia))\n",
    "porct_c = (conteo_c / total_nucleotidos) * 100\n",
    "porct_g = (conteo_g / total_nucleotides) * 100\n",
    "\n",
    "print('el porcentaje de nucleotidos C es:',porct_c,'%')\n",
    "print('el porcentaje de nucleotidos G es:',porct_g,'%')\n"
   ]
  },
  {
   "cell_type": "code",
   "execution_count": null,
   "id": "9fb1283f-80c1-4f32-bc1a-264c4d1be85f",
   "metadata": {},
   "outputs": [],
   "source": []
  }
 ],
 "metadata": {
  "kernelspec": {
   "display_name": "Python 3 (ipykernel)",
   "language": "python",
   "name": "python3"
  },
  "language_info": {
   "codemirror_mode": {
    "name": "ipython",
    "version": 3
   },
   "file_extension": ".py",
   "mimetype": "text/x-python",
   "name": "python",
   "nbconvert_exporter": "python",
   "pygments_lexer": "ipython3",
   "version": "3.11.7"
  }
 },
 "nbformat": 4,
 "nbformat_minor": 5
}
