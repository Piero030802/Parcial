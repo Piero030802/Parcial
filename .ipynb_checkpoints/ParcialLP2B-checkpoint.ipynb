{
 "cells": [
  {
   "cell_type": "markdown",
   "id": "7c9a87fd-11d5-43d8-895e-ea4ede3bd176",
   "metadata": {},
   "source": [
    "<center><h1> PARCIAL (Parte B)<h1></center>\n"
   ]
  },
  {
   "cell_type": "code",
   "execution_count": 2,
   "id": "6910e044-ff06-4e37-a487-a9342ca79ae9",
   "metadata": {},
   "outputs": [],
   "source": [
    "import re \n",
    "with open('gene.fna', 'r') as file:\n",
    "    content = file.read()"
   ]
  },
  {
   "cell_type": "markdown",
   "id": "1ef05b7e-0426-4b72-b55e-79e0a36794fc",
   "metadata": {},
   "source": [
    "<h3>a) El porcentaje de nucleòtidos C o G en toda la secuencia.</h3>"
   ]
  },
  {
   "cell_type": "code",
   "execution_count": 6,
   "id": "6858ef51-b6fa-4ddb-93e9-c54e7c98ff85",
   "metadata": {},
   "outputs": [
    {
     "name": "stdout",
     "output_type": "stream",
     "text": [
      "el porcentaje de nucleotidos C es: 18.55043688863405 %\n",
      "el porcentaje de nucleotidos G es: 20.714768633022103 %\n"
     ]
    }
   ],
   "source": [
    "secuencia = ''.join(line for line in content.splitlines() if not line.startswith('>')) # con esta linea de codigo eliminamos el encabezado\n",
    "\n",
    "c = re.compile(r'C')\n",
    "g = re.compile(r'G')\n",
    "nucleotidos = re.compile(r'[ATCG]')\n",
    "\n",
    "conteo_c = len(c.findall(secuencia))\n",
    "conteo_g = len(g.findall(secuencia))\n",
    "\n",
    "total_nucleotidos = len(nucleotidos.findall(secuencia))\n",
    "porct_c = (conteo_c / total_nucleotidos) * 100\n",
    "porct_g = (conteo_g / total_nucleotides) * 100\n",
    "\n",
    "print('el porcentaje de nucleotidos C es:',porct_c,'%')\n",
    "print('el porcentaje de nucleotidos G es:',porct_g,'%')\n"
   ]
  },
  {
   "cell_type": "markdown",
   "id": "c67054d3-abfa-4011-8ff2-05e85bac8c2c",
   "metadata": {},
   "source": [
    "<h3>b) Tomando secuencias de tres nucleóticos de ventana determine el número de CCG o\r\n",
    " GCC que se encuentran en la secuencia.</h3>"
   ]
  },
  {
   "cell_type": "code",
   "execution_count": 7,
   "id": "3f92c1c0-2c24-435f-9156-50243c22821f",
   "metadata": {},
   "outputs": [],
   "source": [
    "import re\n",
    "with open('gene.fna', 'r') as file:\n",
    "    secuencia = file.read()"
   ]
  },
  {
   "cell_type": "code",
   "execution_count": 10,
   "id": "385470a5-d128-4df6-94b6-9d311aaffe89",
   "metadata": {},
   "outputs": [
    {
     "name": "stdout",
     "output_type": "stream",
     "text": [
      "Total: 1576\n"
     ]
    }
   ],
   "source": [
    "conteo_ccg_gcc = len(re.findall(r'(?=(...(?:CCG|GCC)))', secuencia))\n",
    "print('Total:', conteo_ccg_gcc)"
   ]
  },
  {
   "cell_type": "markdown",
   "id": "6f3a48e7-5e43-4be4-8a4c-1fa7ad7a0bad",
   "metadata": {},
   "source": [
    "<h3>c) Buscar y contar las secuencias: GAATTC.</h3>"
   ]
  },
  {
   "cell_type": "code",
   "execution_count": 3,
   "id": "538a47e4-44e7-45f0-b132-8fc4f1a6d005",
   "metadata": {},
   "outputs": [
    {
     "name": "stdout",
     "output_type": "stream",
     "text": [
      "La secuencia GAATTC aparece 32 veces en el archivo gene.fna.\n"
     ]
    }
   ],
   "source": [
    "import re\n",
    "\n",
    "def contar_secuencias(file_path, secuencia):\n",
    "    try:\n",
    "        with open(file_path, 'r') as file:\n",
    "            contenido = file.read()\n",
    "        \n",
    "        lineas = contenido.split('\\n')\n",
    "        contenido = ''.join(linea for linea in lineas if not linea.startswith('>'))\n",
    "        \n",
    "        patrones = re.findall(secuencia, contenido)\n",
    "        \n",
    "        conteo = len(patrones)\n",
    "        \n",
    "        return conteo\n",
    "    except FileNotFoundError:\n",
    "        print(f\"El archivo {file_path} no se encontró.\")\n",
    "        return None\n",
    "\n",
    "archivo = 'gene.fna'\n",
    "secuencia = 'GAATTC'\n",
    "\n",
    "conteo = contar_secuencias(archivo, secuencia)\n",
    "if conteo is not None:\n",
    "    print(f\"La secuencia {secuencia} aparece {conteo} veces en el archivo {archivo}.\")\n"
   ]
  },
  {
   "cell_type": "markdown",
   "id": "0819f7ea-4680-447a-ba40-0498889af04f",
   "metadata": {},
   "source": [
    "<h3> d)¿Es posible automatizar la descarga del archivo directamente desde Python?¿què\n",
    "librerìas y/o sentencias utilizarìa?.Escriba còdigo para dicha descarga<h3>"
   ]
  },
  {
   "cell_type": "code",
   "execution_count": 1,
   "id": "47b1bca5-f7df-493d-9cea-a4fa46ae8ab9",
   "metadata": {},
   "outputs": [],
   "source": [
    "#Código\n",
    "import requests"
   ]
  },
  {
   "cell_type": "code",
   "execution_count": 2,
   "id": "c0c613c4-a39b-41fc-ab09-2303b97409c8",
   "metadata": {},
   "outputs": [
    {
     "name": "stdout",
     "output_type": "stream",
     "text": [
      "Archivo descargado exitosamente.\n"
     ]
    }
   ],
   "source": [
    "# URL del archivo que vamos a descargar\n",
    "url = 'https://www.ncbi.nlm.nih.gov/gene/1452/download?format=zip'\n",
    "\n",
    "# Nombre del archivo a guardar\n",
    "nombre_archivo = 'CSNK1A1_datasets.zip'\n",
    "\n",
    "# Realizar la solicitud GET para descargar el archivo\n",
    "response = requests.get(url)\n",
    "\n",
    "# Verificar que la solicitud fue exitosa (código de estado 200)\n",
    "if response.status_code == 200:\n",
    "    # Guardar el contenido del archivo en un archivo local\n",
    "    with open(nombre_archivo, 'wb') as f:\n",
    "        f.write(response.content)\n",
    "    print(\"Archivo descargado exitosamente.\")\n",
    "else:\n",
    "    print(f\"Error al descargar el archivo: {response.status_code}\")\n"
   ]
  },
  {
   "cell_type": "markdown",
   "id": "ed785e66-be76-4a9c-957d-7be18c4e3a13",
   "metadata": {},
   "source": [
    "<h3> Explicación del codigo: </b3>"
   ]
  },
  {
   "cell_type": "markdown",
   "id": "dcb3af3d-8996-4040-8202-fd9108f73421",
   "metadata": {},
   "source": [
    "# Código en Python para Descargar un Archivo desde una URL\n",
    "### Importar la Biblioteca requests\n",
    "```python\n",
    "import requests\n",
    "\n",
    "Se importa el módulo requests, utilizado para hacer solicitudes HTTP en Python.\n",
    "```\n",
    "### Definir la URL del Archivo a Descargar\n",
    "```python\n",
    "url = 'https://www.ncbi.nlm.nih.gov/gene/1452/download?format=zip'\n",
    "```\n",
    "Se define una variable url que contiene la dirección desde la cual se descargará el archivo.\n",
    "\n",
    "### Definir el Nombre del Archivo a Guardar\n",
    "```python\n",
    "nombre_archivo = 'CSNK1A1_datasets.zip'\n",
    "```\n",
    "Se define una variable nombre_archivo que especifica el nombre con el que se guardará el archivo en el sistema local.\n",
    "\n",
    "### Realizar la Solicitud GET para Descargar el Archivo\n",
    "```python\n",
    "response = requests.get(url)\n",
    "```\n",
    "Se hace una solicitud GET a la URL especificada y la respuesta se almacena en la variable response.\n",
    "\n",
    "### Verificar que la Solicitud fue Exitosa\n",
    "```python\n",
    "if response.status_code == 200:\n",
    "```\n",
    "Se verifica si el código de estado de la respuesta es 200, indicando que la solicitud fue exitosa.\n",
    "\n",
    "### Guardar el Contenido del Archivo en un Archivo Local\n",
    "```python\n",
    "with open(nombre_archivo, 'wb') as f:\n",
    "    f.write(response.content)\n",
    "```\n",
    "Si la solicitud fue exitosa, se abre un archivo local con el nombre especificado en modo de escritura binaria (wb). El contenido de la respuesta (el archivo descargado) se escribe en este archivo.\n",
    "\n",
    "### Mensaje de Confirmación\n",
    "```python\n",
    "print(\"Archivo descargado exitosamente.\")\n",
    "```\n",
    "Si todo el proceso se realiza sin problemas, se imprime un mensaje indicando que el archivo se ha descargado exitosamente.\n",
    "\n",
    "### Manejo de Errores\n",
    "```python\n",
    "else:\n",
    "    print(f\"Error al descargar el archivo: {response.status_code}\")\n",
    "```\n",
    "Si la solicitud no fue exitosa (código de estado no es 200), se imprime un mensaje de error con el código de estado de la respuesta."
   ]
  },
  {
   "cell_type": "code",
   "execution_count": null,
   "id": "0275b709-4fa3-4ce6-a060-f0fddd4266c4",
   "metadata": {},
   "outputs": [],
   "source": []
  }
 ],
 "metadata": {
  "kernelspec": {
   "display_name": "Python 3 (ipykernel)",
   "language": "python",
   "name": "python3"
  },
  "language_info": {
   "codemirror_mode": {
    "name": "ipython",
    "version": 3
   },
   "file_extension": ".py",
   "mimetype": "text/x-python",
   "name": "python",
   "nbconvert_exporter": "python",
   "pygments_lexer": "ipython3",
   "version": "3.11.7"
  }
 },
 "nbformat": 4,
 "nbformat_minor": 5
}
